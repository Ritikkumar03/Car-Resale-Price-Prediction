{
  "nbformat": 4,
  "nbformat_minor": 0,
  "metadata": {
    "colab": {
      "provenance": [],
      "mount_file_id": "1Rb22gImARZdGerstar_ERsFh5fCUlD2g",
      "authorship_tag": "ABX9TyOCufocm8HdweVgSXqYW7GQ",
      "include_colab_link": true
    },
    "kernelspec": {
      "name": "python3",
      "display_name": "Python 3"
    },
    "language_info": {
      "name": "python"
    }
  },
  "cells": [
    {
      "cell_type": "markdown",
      "metadata": {
        "id": "view-in-github",
        "colab_type": "text"
      },
      "source": [
        "<a href=\"https://colab.research.google.com/github/rajgurubhosale/Resale-car-price-prediction/blob/main/Data_Cleaning_project_final.ipynb\" target=\"_parent\"><img src=\"https://colab.research.google.com/assets/colab-badge.svg\" alt=\"Open In Colab\"/></a>"
      ]
    },
    {
      "cell_type": "code",
      "execution_count": null,
      "metadata": {
        "id": "Mj67yGeBX_jy"
      },
      "outputs": [],
      "source": [
        "import pandas as pd\n",
        "import  numpy as np\n",
        "import matplotlib.pyplot as plt\n",
        "import seaborn as sns"
      ]
    },
    {
      "cell_type": "code",
      "source": [],
      "metadata": {
        "id": "s1TvvmWg0Zag"
      },
      "execution_count": null,
      "outputs": []
    },
    {
      "cell_type": "code",
      "source": [
        "data = pd.read_csv('/content/drive/MyDrive/used car price/car_resale_prices.csv')"
      ],
      "metadata": {
        "id": "BZBQqHepYPA_"
      },
      "execution_count": null,
      "outputs": []
    },
    {
      "cell_type": "code",
      "source": [
        "#copying the original dataset\n",
        "df = data.copy()"
      ],
      "metadata": {
        "id": "44rMmANcYQsH"
      },
      "execution_count": null,
      "outputs": []
    },
    {
      "cell_type": "code",
      "source": [
        "df.sample(2)"
      ],
      "metadata": {
        "colab": {
          "base_uri": "https://localhost:8080/",
          "height": 219
        },
        "id": "rw7zi97EYTaG",
        "outputId": "89b9293a-08a2-4257-95d6-9b95789ea754"
      },
      "execution_count": null,
      "outputs": [
        {
          "output_type": "execute_result",
          "data": {
            "text/plain": [
              "       Unnamed: 0                 full_name resale_price registered_year  \\\n",
              "11311       11311  2016 Honda City i VTEC V  ₹ 6.51 Lakh        Jan 2017   \n",
              "11183       11183  2013 Hyundai i20 Era 1.2     ₹ 3 Lakh            2013   \n",
              "\n",
              "      engine_capacity              insurance transmission_type    kms_driven  \\\n",
              "11311         1497 cc          Comprehensive            Manual    58,808 Kms   \n",
              "11183         1197 cc  Third Party insurance            Manual  1,20,000 Kms   \n",
              "\n",
              "         owner_type fuel_type max_power  seats    mileage  body_type  \\\n",
              "11311  Second Owner    Petrol  117.3bhp    5.0  17.8 kmpl      Sedan   \n",
              "11183   First Owner    Petrol  82.85bhp    5.0  18.6 kmpl  Hatchback   \n",
              "\n",
              "            city  \n",
              "11311  Bangalore  \n",
              "11183  Bangalore  "
            ],
            "text/html": [
              "\n",
              "  <div id=\"df-c043f3dd-2408-4cbe-9699-912b0173e91e\" class=\"colab-df-container\">\n",
              "    <div>\n",
              "<style scoped>\n",
              "    .dataframe tbody tr th:only-of-type {\n",
              "        vertical-align: middle;\n",
              "    }\n",
              "\n",
              "    .dataframe tbody tr th {\n",
              "        vertical-align: top;\n",
              "    }\n",
              "\n",
              "    .dataframe thead th {\n",
              "        text-align: right;\n",
              "    }\n",
              "</style>\n",
              "<table border=\"1\" class=\"dataframe\">\n",
              "  <thead>\n",
              "    <tr style=\"text-align: right;\">\n",
              "      <th></th>\n",
              "      <th>Unnamed: 0</th>\n",
              "      <th>full_name</th>\n",
              "      <th>resale_price</th>\n",
              "      <th>registered_year</th>\n",
              "      <th>engine_capacity</th>\n",
              "      <th>insurance</th>\n",
              "      <th>transmission_type</th>\n",
              "      <th>kms_driven</th>\n",
              "      <th>owner_type</th>\n",
              "      <th>fuel_type</th>\n",
              "      <th>max_power</th>\n",
              "      <th>seats</th>\n",
              "      <th>mileage</th>\n",
              "      <th>body_type</th>\n",
              "      <th>city</th>\n",
              "    </tr>\n",
              "  </thead>\n",
              "  <tbody>\n",
              "    <tr>\n",
              "      <th>11311</th>\n",
              "      <td>11311</td>\n",
              "      <td>2016 Honda City i VTEC V</td>\n",
              "      <td>₹ 6.51 Lakh</td>\n",
              "      <td>Jan 2017</td>\n",
              "      <td>1497 cc</td>\n",
              "      <td>Comprehensive</td>\n",
              "      <td>Manual</td>\n",
              "      <td>58,808 Kms</td>\n",
              "      <td>Second Owner</td>\n",
              "      <td>Petrol</td>\n",
              "      <td>117.3bhp</td>\n",
              "      <td>5.0</td>\n",
              "      <td>17.8 kmpl</td>\n",
              "      <td>Sedan</td>\n",
              "      <td>Bangalore</td>\n",
              "    </tr>\n",
              "    <tr>\n",
              "      <th>11183</th>\n",
              "      <td>11183</td>\n",
              "      <td>2013 Hyundai i20 Era 1.2</td>\n",
              "      <td>₹ 3 Lakh</td>\n",
              "      <td>2013</td>\n",
              "      <td>1197 cc</td>\n",
              "      <td>Third Party insurance</td>\n",
              "      <td>Manual</td>\n",
              "      <td>1,20,000 Kms</td>\n",
              "      <td>First Owner</td>\n",
              "      <td>Petrol</td>\n",
              "      <td>82.85bhp</td>\n",
              "      <td>5.0</td>\n",
              "      <td>18.6 kmpl</td>\n",
              "      <td>Hatchback</td>\n",
              "      <td>Bangalore</td>\n",
              "    </tr>\n",
              "  </tbody>\n",
              "</table>\n",
              "</div>\n",
              "    <div class=\"colab-df-buttons\">\n",
              "\n",
              "  <div class=\"colab-df-container\">\n",
              "    <button class=\"colab-df-convert\" onclick=\"convertToInteractive('df-c043f3dd-2408-4cbe-9699-912b0173e91e')\"\n",
              "            title=\"Convert this dataframe to an interactive table.\"\n",
              "            style=\"display:none;\">\n",
              "\n",
              "  <svg xmlns=\"http://www.w3.org/2000/svg\" height=\"24px\" viewBox=\"0 -960 960 960\">\n",
              "    <path d=\"M120-120v-720h720v720H120Zm60-500h600v-160H180v160Zm220 220h160v-160H400v160Zm0 220h160v-160H400v160ZM180-400h160v-160H180v160Zm440 0h160v-160H620v160ZM180-180h160v-160H180v160Zm440 0h160v-160H620v160Z\"/>\n",
              "  </svg>\n",
              "    </button>\n",
              "\n",
              "  <style>\n",
              "    .colab-df-container {\n",
              "      display:flex;\n",
              "      gap: 12px;\n",
              "    }\n",
              "\n",
              "    .colab-df-convert {\n",
              "      background-color: #E8F0FE;\n",
              "      border: none;\n",
              "      border-radius: 50%;\n",
              "      cursor: pointer;\n",
              "      display: none;\n",
              "      fill: #1967D2;\n",
              "      height: 32px;\n",
              "      padding: 0 0 0 0;\n",
              "      width: 32px;\n",
              "    }\n",
              "\n",
              "    .colab-df-convert:hover {\n",
              "      background-color: #E2EBFA;\n",
              "      box-shadow: 0px 1px 2px rgba(60, 64, 67, 0.3), 0px 1px 3px 1px rgba(60, 64, 67, 0.15);\n",
              "      fill: #174EA6;\n",
              "    }\n",
              "\n",
              "    .colab-df-buttons div {\n",
              "      margin-bottom: 4px;\n",
              "    }\n",
              "\n",
              "    [theme=dark] .colab-df-convert {\n",
              "      background-color: #3B4455;\n",
              "      fill: #D2E3FC;\n",
              "    }\n",
              "\n",
              "    [theme=dark] .colab-df-convert:hover {\n",
              "      background-color: #434B5C;\n",
              "      box-shadow: 0px 1px 3px 1px rgba(0, 0, 0, 0.15);\n",
              "      filter: drop-shadow(0px 1px 2px rgba(0, 0, 0, 0.3));\n",
              "      fill: #FFFFFF;\n",
              "    }\n",
              "  </style>\n",
              "\n",
              "    <script>\n",
              "      const buttonEl =\n",
              "        document.querySelector('#df-c043f3dd-2408-4cbe-9699-912b0173e91e button.colab-df-convert');\n",
              "      buttonEl.style.display =\n",
              "        google.colab.kernel.accessAllowed ? 'block' : 'none';\n",
              "\n",
              "      async function convertToInteractive(key) {\n",
              "        const element = document.querySelector('#df-c043f3dd-2408-4cbe-9699-912b0173e91e');\n",
              "        const dataTable =\n",
              "          await google.colab.kernel.invokeFunction('convertToInteractive',\n",
              "                                                    [key], {});\n",
              "        if (!dataTable) return;\n",
              "\n",
              "        const docLinkHtml = 'Like what you see? Visit the ' +\n",
              "          '<a target=\"_blank\" href=https://colab.research.google.com/notebooks/data_table.ipynb>data table notebook</a>'\n",
              "          + ' to learn more about interactive tables.';\n",
              "        element.innerHTML = '';\n",
              "        dataTable['output_type'] = 'display_data';\n",
              "        await google.colab.output.renderOutput(dataTable, element);\n",
              "        const docLink = document.createElement('div');\n",
              "        docLink.innerHTML = docLinkHtml;\n",
              "        element.appendChild(docLink);\n",
              "      }\n",
              "    </script>\n",
              "  </div>\n",
              "\n",
              "\n",
              "<div id=\"df-0630c04b-6982-4419-979a-7ce86b530f64\">\n",
              "  <button class=\"colab-df-quickchart\" onclick=\"quickchart('df-0630c04b-6982-4419-979a-7ce86b530f64')\"\n",
              "            title=\"Suggest charts\"\n",
              "            style=\"display:none;\">\n",
              "\n",
              "<svg xmlns=\"http://www.w3.org/2000/svg\" height=\"24px\"viewBox=\"0 0 24 24\"\n",
              "     width=\"24px\">\n",
              "    <g>\n",
              "        <path d=\"M19 3H5c-1.1 0-2 .9-2 2v14c0 1.1.9 2 2 2h14c1.1 0 2-.9 2-2V5c0-1.1-.9-2-2-2zM9 17H7v-7h2v7zm4 0h-2V7h2v10zm4 0h-2v-4h2v4z\"/>\n",
              "    </g>\n",
              "</svg>\n",
              "  </button>\n",
              "\n",
              "<style>\n",
              "  .colab-df-quickchart {\n",
              "      --bg-color: #E8F0FE;\n",
              "      --fill-color: #1967D2;\n",
              "      --hover-bg-color: #E2EBFA;\n",
              "      --hover-fill-color: #174EA6;\n",
              "      --disabled-fill-color: #AAA;\n",
              "      --disabled-bg-color: #DDD;\n",
              "  }\n",
              "\n",
              "  [theme=dark] .colab-df-quickchart {\n",
              "      --bg-color: #3B4455;\n",
              "      --fill-color: #D2E3FC;\n",
              "      --hover-bg-color: #434B5C;\n",
              "      --hover-fill-color: #FFFFFF;\n",
              "      --disabled-bg-color: #3B4455;\n",
              "      --disabled-fill-color: #666;\n",
              "  }\n",
              "\n",
              "  .colab-df-quickchart {\n",
              "    background-color: var(--bg-color);\n",
              "    border: none;\n",
              "    border-radius: 50%;\n",
              "    cursor: pointer;\n",
              "    display: none;\n",
              "    fill: var(--fill-color);\n",
              "    height: 32px;\n",
              "    padding: 0;\n",
              "    width: 32px;\n",
              "  }\n",
              "\n",
              "  .colab-df-quickchart:hover {\n",
              "    background-color: var(--hover-bg-color);\n",
              "    box-shadow: 0 1px 2px rgba(60, 64, 67, 0.3), 0 1px 3px 1px rgba(60, 64, 67, 0.15);\n",
              "    fill: var(--button-hover-fill-color);\n",
              "  }\n",
              "\n",
              "  .colab-df-quickchart-complete:disabled,\n",
              "  .colab-df-quickchart-complete:disabled:hover {\n",
              "    background-color: var(--disabled-bg-color);\n",
              "    fill: var(--disabled-fill-color);\n",
              "    box-shadow: none;\n",
              "  }\n",
              "\n",
              "  .colab-df-spinner {\n",
              "    border: 2px solid var(--fill-color);\n",
              "    border-color: transparent;\n",
              "    border-bottom-color: var(--fill-color);\n",
              "    animation:\n",
              "      spin 1s steps(1) infinite;\n",
              "  }\n",
              "\n",
              "  @keyframes spin {\n",
              "    0% {\n",
              "      border-color: transparent;\n",
              "      border-bottom-color: var(--fill-color);\n",
              "      border-left-color: var(--fill-color);\n",
              "    }\n",
              "    20% {\n",
              "      border-color: transparent;\n",
              "      border-left-color: var(--fill-color);\n",
              "      border-top-color: var(--fill-color);\n",
              "    }\n",
              "    30% {\n",
              "      border-color: transparent;\n",
              "      border-left-color: var(--fill-color);\n",
              "      border-top-color: var(--fill-color);\n",
              "      border-right-color: var(--fill-color);\n",
              "    }\n",
              "    40% {\n",
              "      border-color: transparent;\n",
              "      border-right-color: var(--fill-color);\n",
              "      border-top-color: var(--fill-color);\n",
              "    }\n",
              "    60% {\n",
              "      border-color: transparent;\n",
              "      border-right-color: var(--fill-color);\n",
              "    }\n",
              "    80% {\n",
              "      border-color: transparent;\n",
              "      border-right-color: var(--fill-color);\n",
              "      border-bottom-color: var(--fill-color);\n",
              "    }\n",
              "    90% {\n",
              "      border-color: transparent;\n",
              "      border-bottom-color: var(--fill-color);\n",
              "    }\n",
              "  }\n",
              "</style>\n",
              "\n",
              "  <script>\n",
              "    async function quickchart(key) {\n",
              "      const quickchartButtonEl =\n",
              "        document.querySelector('#' + key + ' button');\n",
              "      quickchartButtonEl.disabled = true;  // To prevent multiple clicks.\n",
              "      quickchartButtonEl.classList.add('colab-df-spinner');\n",
              "      try {\n",
              "        const charts = await google.colab.kernel.invokeFunction(\n",
              "            'suggestCharts', [key], {});\n",
              "      } catch (error) {\n",
              "        console.error('Error during call to suggestCharts:', error);\n",
              "      }\n",
              "      quickchartButtonEl.classList.remove('colab-df-spinner');\n",
              "      quickchartButtonEl.classList.add('colab-df-quickchart-complete');\n",
              "    }\n",
              "    (() => {\n",
              "      let quickchartButtonEl =\n",
              "        document.querySelector('#df-0630c04b-6982-4419-979a-7ce86b530f64 button');\n",
              "      quickchartButtonEl.style.display =\n",
              "        google.colab.kernel.accessAllowed ? 'block' : 'none';\n",
              "    })();\n",
              "  </script>\n",
              "</div>\n",
              "\n",
              "    </div>\n",
              "  </div>\n"
            ],
            "application/vnd.google.colaboratory.intrinsic+json": {
              "type": "dataframe",
              "repr_error": "0"
            }
          },
          "metadata": {},
          "execution_count": 107
        }
      ]
    },
    {
      "cell_type": "markdown",
      "source": [
        "# issues with data\n",
        "\n",
        "\n",
        "*   drop duplicates\n",
        "*   removing rs symbol from front\n",
        "*   clean resale_price column and convert it into numerical\n",
        "*   extracting year from full_name and stroing in registered year to tackle issue (registered_year has null values)\n",
        "*   create a new feature by extracting brand of cars from full_name\n",
        "*   clean insurance column\n",
        "\n",
        "\n",
        "*   removing rows when year is too old 2000 we are not capping because it will make bias data\n",
        "\n",
        "*  Removing cc from engine_capacity column\n",
        "* cleaning owner type an removing(owener word) of every value\n",
        "* handling noisy data from kms_driven coln\n",
        "\n",
        "\n",
        "\n"
      ],
      "metadata": {
        "id": "7nQBuWABYUQf"
      }
    },
    {
      "cell_type": "code",
      "source": [],
      "metadata": {
        "id": "f_e6tEfXYXsE"
      },
      "execution_count": null,
      "outputs": []
    },
    {
      "cell_type": "code",
      "source": [
        "df = df[['full_name','engine_capacity','resale_price','registered_year','insurance','transmission_type','kms_driven','owner_type','fuel_type']]"
      ],
      "metadata": {
        "id": "4berP8ArYuX6"
      },
      "execution_count": null,
      "outputs": []
    },
    {
      "cell_type": "code",
      "source": [
        "#removing rs symbol from front\n",
        "df['resale_price'] = df['resale_price'].str.slice(start=1)"
      ],
      "metadata": {
        "id": "vUodl81sZC6g"
      },
      "execution_count": null,
      "outputs": []
    },
    {
      "cell_type": "code",
      "source": [
        "df.drop_duplicates(inplace=True)"
      ],
      "metadata": {
        "id": "kwQo4Y1PYuZ_"
      },
      "execution_count": null,
      "outputs": []
    },
    {
      "cell_type": "code",
      "source": [
        "def currency_converter(x):\n",
        "  if x.endswith('Lakh'):\n",
        "    x = x.split()[0]\n",
        "    if len(x) <= 2 and len(x) > 0:\n",
        "      return 100000*float(x.replace('.',''))\n",
        "    else:\n",
        "      return 1000*float(x.replace('.',''))\n",
        "  elif x.endswith('Crore'):\n",
        "    x = x.split()[0]\n",
        "    return 100000*float(x.replace('.',''))\n",
        "  else:\n",
        "    return float(x.replace(',',''))"
      ],
      "metadata": {
        "id": "u6SgAixCZcjo"
      },
      "execution_count": null,
      "outputs": []
    },
    {
      "cell_type": "code",
      "source": [
        "df['resale_price'] = df['resale_price'].apply(currency_converter)"
      ],
      "metadata": {
        "id": "hlzY-2KgZeD3"
      },
      "execution_count": null,
      "outputs": []
    },
    {
      "cell_type": "code",
      "source": [
        "df[df.duplicated()].count()"
      ],
      "metadata": {
        "colab": {
          "base_uri": "https://localhost:8080/"
        },
        "id": "ZGrfUTFo143t",
        "outputId": "eb2567d6-b026-45da-858a-5f0106e46f3d"
      },
      "execution_count": null,
      "outputs": [
        {
          "output_type": "execute_result",
          "data": {
            "text/plain": [
              "full_name            0\n",
              "engine_capacity      0\n",
              "resale_price         0\n",
              "registered_year      0\n",
              "insurance            0\n",
              "transmission_type    0\n",
              "kms_driven           0\n",
              "owner_type           0\n",
              "fuel_type            0\n",
              "dtype: int64"
            ]
          },
          "metadata": {},
          "execution_count": 113
        }
      ]
    },
    {
      "cell_type": "code",
      "source": [
        "#removing null values and filling with registered year in col of full name because itis same\n",
        "df['registered_year'] = df['full_name'].str.split().apply(lambda x:x[0])\n",
        "df['registered_year'] = df['registered_year'].astype('int16')\n",
        "#it is causeing 13 duplicated value create(valid duplicated)"
      ],
      "metadata": {
        "id": "gY-cV6ASZf9w"
      },
      "execution_count": null,
      "outputs": []
    },
    {
      "cell_type": "code",
      "source": [
        "df[df.duplicated()].count()"
      ],
      "metadata": {
        "colab": {
          "base_uri": "https://localhost:8080/"
        },
        "id": "ti4iVJgl15wY",
        "outputId": "4c226450-5677-4e32-8bb7-64dcc2232d92"
      },
      "execution_count": null,
      "outputs": [
        {
          "output_type": "execute_result",
          "data": {
            "text/plain": [
              "full_name            13\n",
              "engine_capacity      13\n",
              "resale_price         13\n",
              "registered_year      13\n",
              "insurance            13\n",
              "transmission_type    13\n",
              "kms_driven           13\n",
              "owner_type           13\n",
              "fuel_type            13\n",
              "dtype: int64"
            ]
          },
          "metadata": {},
          "execution_count": 115
        }
      ]
    },
    {
      "cell_type": "code",
      "source": [
        "#extracting brand of cars from full_name\n",
        "df['brand'] = df['full_name'].str.split().apply(lambda x:x[1]).str.join('')\n",
        "#after removing full_name column it is causeing duplcats values(valid)"
      ],
      "metadata": {
        "id": "kchPxoFnZ_T4"
      },
      "execution_count": null,
      "outputs": []
    },
    {
      "cell_type": "code",
      "source": [
        "names = df['full_name'].str.split().apply(lambda x: x[2:4]).str.join(' ')\n",
        "names.value_counts(ascending=False)"
      ],
      "metadata": {
        "colab": {
          "base_uri": "https://localhost:8080/"
        },
        "id": "7gbZgTZV1_0C",
        "outputId": "40cf8482-53cc-44df-a230-6e2e53d898e6"
      },
      "execution_count": null,
      "outputs": [
        {
          "output_type": "execute_result",
          "data": {
            "text/plain": [
              "Grand i10           687\n",
              "Wagon R             679\n",
              "Swift Dzire         588\n",
              "Baleno 1.2          347\n",
              "City i              323\n",
              "                   ... \n",
              "Fabia 1.6             1\n",
              "Optra 1.8             1\n",
              "Ecosport SE           1\n",
              "Indigo VS             1\n",
              "Cayenne Platinum      1\n",
              "Name: full_name, Length: 999, dtype: int64"
            ]
          },
          "metadata": {},
          "execution_count": 117
        }
      ]
    },
    {
      "cell_type": "code",
      "source": [
        "#df.drop(columns='full_name',inplace=True)"
      ],
      "metadata": {
        "id": "l4wxHspPaEbI"
      },
      "execution_count": null,
      "outputs": []
    },
    {
      "cell_type": "code",
      "source": [
        "#changing all third insurnce values to Third Party\n",
        "df['insurance'].value_counts()\n",
        "filt = df['insurance'] == 'Third Party insurance'\n",
        "df.loc[filt,'insurance'] = 'Third Party'"
      ],
      "metadata": {
        "id": "BhQ8RPDraRwo"
      },
      "execution_count": null,
      "outputs": []
    },
    {
      "cell_type": "code",
      "source": [
        "#changeing 1 to comprehensive insurance beacuse it means the same\n",
        "filt = df['insurance'] == '1'\n",
        "df.loc[filt,'insurance'] = 'Comprehensive'\n"
      ],
      "metadata": {
        "id": "hrhwjF4FaW-A"
      },
      "execution_count": null,
      "outputs": []
    },
    {
      "cell_type": "code",
      "source": [
        "def transform_insurance(value):\n",
        "  if value == 'Third Party':\n",
        "    return 'Third'\n",
        "  elif value == 'Zero Dep':\n",
        "    return 'Zerodep'\n",
        "  elif value == 'Comprehensive':\n",
        "    return 'First'\n",
        "  elif value =='Not Available':\n",
        "    return 'Uncovered'\n",
        "  elif value == '2':\n",
        "    return 'Second'\n",
        "  else:\n",
        "    return value"
      ],
      "metadata": {
        "id": "W_GF-Nvlaaml"
      },
      "execution_count": null,
      "outputs": []
    },
    {
      "cell_type": "code",
      "source": [
        "#clean insurance column\n",
        "df['insurance'] = df['insurance'].apply(transform_insurance)"
      ],
      "metadata": {
        "id": "4KwimfMhah59"
      },
      "execution_count": null,
      "outputs": []
    },
    {
      "cell_type": "code",
      "source": [
        "all_years  = df['registered_year']"
      ],
      "metadata": {
        "id": "iCNSn9kXcwl4"
      },
      "execution_count": null,
      "outputs": []
    },
    {
      "cell_type": "code",
      "source": [
        "#removing rows when year is too old 2000 we are not capping because it will make bias data\n",
        "filt = df['registered_year'] > 2000\n",
        "df = df.loc[filt]\n",
        "\n",
        "plt.figure(figsize=(10,3))\n",
        "plt.subplot(1,2,1)\n",
        "sns.kdeplot(all_years)\n",
        "plt.title('current all years present in dataset')\n",
        "\n",
        "plt.subplot(1,2,2)\n",
        "sns.kdeplot(df['registered_year'])\n",
        "plt.title('years distribution after 2000')\n",
        "plt.show()"
      ],
      "metadata": {
        "id": "fq8wNYLZawyw",
        "colab": {
          "base_uri": "https://localhost:8080/",
          "height": 333
        },
        "outputId": "4299337a-d330-4f45-a152-e7afe41afb38"
      },
      "execution_count": null,
      "outputs": [
        {
          "output_type": "display_data",
          "data": {
            "text/plain": [
              "<Figure size 1000x300 with 2 Axes>"
            ],
            "image/png": "[encoded data removed]"
          },
          "metadata": {}
        }
      ]
    },
    {
      "cell_type": "code",
      "source": [
        "#removing cc\n",
        "filt = df['engine_capacity'].notnull()\n",
        "df.loc[filt,'engine_capacity'] = df.loc[filt,'engine_capacity'].str.split().apply(lambda x:x[0])"
      ],
      "metadata": {
        "id": "_SfDd6Qecj4v"
      },
      "execution_count": null,
      "outputs": []
    },
    {
      "cell_type": "code",
      "source": [
        "# changing datatype\n",
        "df['engine_capacity'] = df['engine_capacity'].astype('float')\n"
      ],
      "metadata": {
        "id": "p74HCrKqc6y4"
      },
      "execution_count": null,
      "outputs": []
    },
    {
      "cell_type": "code",
      "source": [
        "df.reset_index(drop=True, inplace=True)"
      ],
      "metadata": {
        "id": "wrpKZLiHdT1Q"
      },
      "execution_count": null,
      "outputs": []
    },
    {
      "cell_type": "code",
      "source": [
        "#cleaning owner type an removing(owener word) of every value\n",
        "#for ex first owner->first\n",
        "filt = df['owner_type'].notnull()\n",
        "df.loc[filt,'owner_type'] = df.loc[filt,'owner_type'].str.split().apply(lambda x:x[0])"
      ],
      "metadata": {
        "id": "PkzwwGYTdUd6"
      },
      "execution_count": null,
      "outputs": []
    },
    {
      "cell_type": "code",
      "source": [
        "#handling noisy data from kms_driven coln\n",
        "df['kms_driven'] = df['kms_driven'].str.replace(' Kms','')\n",
        "df['kms_driven'] = df['kms_driven'].str.replace(',','')\n",
        "df['kms_driven'] = df['kms_driven'].astype('float')"
      ],
      "metadata": {
        "id": "sVGyhwONdcFP"
      },
      "execution_count": null,
      "outputs": []
    },
    {
      "cell_type": "code",
      "source": [
        "filt = df['brand'] =='Land'\n",
        "df.loc[filt,'brand'] = 'Land-Rover'"
      ],
      "metadata": {
        "id": "vaqdGwmNeJQH"
      },
      "execution_count": null,
      "outputs": []
    },
    {
      "cell_type": "code",
      "source": [
        "df.drop_duplicates(inplace=True)"
      ],
      "metadata": {
        "id": "4pCDnGvP3NbY"
      },
      "execution_count": null,
      "outputs": []
    },
    {
      "cell_type": "code",
      "source": [
        "df['full_name'] = df['full_name'].str.split().apply(lambda x:x[2:4]).str.join(' ')"
      ],
      "metadata": {
        "id": "MKJdULibCfg8"
      },
      "execution_count": null,
      "outputs": []
    },
    {
      "cell_type": "code",
      "source": [
        "df = df[df['resale_price']<  1_00_00_000]\n",
        "df.shape"
      ],
      "metadata": {
        "colab": {
          "base_uri": "https://localhost:8080/"
        },
        "id": "Syvh1hoYCfmS",
        "outputId": "aff2f44b-d5eb-42ee-88c1-5b5bde023942"
      },
      "execution_count": null,
      "outputs": [
        {
          "output_type": "execute_result",
          "data": {
            "text/plain": [
              "(17171, 10)"
            ]
          },
          "metadata": {},
          "execution_count": 133
        }
      ]
    },
    {
      "cell_type": "code",
      "source": [
        "filt = df['engine_capacity'] < 1\n",
        "df = df.loc[~filt]"
      ],
      "metadata": {
        "id": "3fk-nWUPC4W0"
      },
      "execution_count": null,
      "outputs": []
    },
    {
      "cell_type": "code",
      "source": [
        "df.to_csv('/content/drive/MyDrive/used car price/clean_df.csv')"
      ],
      "metadata": {
        "id": "73dffWiceT82"
      },
      "execution_count": null,
      "outputs": []
    },
    {
      "cell_type": "code",
      "source": [
        "df"
      ],
      "metadata": {
        "id": "3E6qyegaqOkB",
        "outputId": "a7187475-dded-46b2-e48e-4bc812ff6f3a",
        "colab": {
          "base_uri": "https://localhost:8080/",
          "height": 424
        }
      },
      "execution_count": null,
      "outputs": [
        {
          "output_type": "execute_result",
          "data": {
            "text/plain": [
              "           full_name  engine_capacity  resale_price  registered_year  \\\n",
              "0         Baleno 1.2           1197.0      545000.0             2017   \n",
              "1           Hexa XTA           2179.0     1000000.0             2018   \n",
              "2        Swift Dzire           1197.0      450000.0             2015   \n",
              "3          i10 Magna           1086.0      160000.0             2009   \n",
              "4         i20 Active           1197.0      470000.0             2015   \n",
              "...              ...              ...           ...              ...   \n",
              "17208       Amaze VX           1198.0      325000.0             2013   \n",
              "17209      Camry 2.5           2494.0     2075000.0             2016   \n",
              "17210  Corolla Altis           1798.0      835000.0             2016   \n",
              "17211      Creta 1.6           1582.0     1395000.0             2019   \n",
              "17212    Swift Dzire           1248.0      650000.0             2017   \n",
              "\n",
              "      insurance transmission_type  kms_driven owner_type fuel_type    brand  \n",
              "0         Third            Manual     40000.0      First    Petrol   Maruti  \n",
              "1         Third         Automatic     70000.0      First    Diesel     Tata  \n",
              "2         Third            Manual     70000.0     Second    Petrol   Maruti  \n",
              "3         Third            Manual     80000.0      First    Petrol  Hyundai  \n",
              "4         Third            Manual     70000.0      First    Petrol  Hyundai  \n",
              "...         ...               ...         ...        ...       ...      ...  \n",
              "17208     First            Manual     89000.0     Second    Petrol    Honda  \n",
              "17209     First         Automatic     68000.0      First    Petrol   Toyota  \n",
              "17210     First            Manual     81000.0      First    Petrol   Toyota  \n",
              "17211     First         Automatic     20000.0      First    Diesel  Hyundai  \n",
              "17212     First            Manual     32000.0      First    Diesel   Maruti  \n",
              "\n",
              "[17128 rows x 10 columns]"
            ],
            "text/html": [
              "\n",
              "  <div id=\"df-473785fe-66d3-4b80-abbd-3bf918de273a\" class=\"colab-df-container\">\n",
              "    <div>\n",
              "<style scoped>\n",
              "    .dataframe tbody tr th:only-of-type {\n",
              "        vertical-align: middle;\n",
              "    }\n",
              "\n",
              "    .dataframe tbody tr th {\n",
              "        vertical-align: top;\n",
              "    }\n",
              "\n",
              "    .dataframe thead th {\n",
              "        text-align: right;\n",
              "    }\n",
              "</style>\n",
              "<table border=\"1\" class=\"dataframe\">\n",
              "  <thead>\n",
              "    <tr style=\"text-align: right;\">\n",
              "      <th></th>\n",
              "      <th>full_name</th>\n",
              "      <th>engine_capacity</th>\n",
              "      <th>resale_price</th>\n",
              "      <th>registered_year</th>\n",
              "      <th>insurance</th>\n",
              "      <th>transmission_type</th>\n",
              "      <th>kms_driven</th>\n",
              "      <th>owner_type</th>\n",
              "      <th>fuel_type</th>\n",
              "      <th>brand</th>\n",
              "    </tr>\n",
              "  </thead>\n",
              "  <tbody>\n",
              "    <tr>\n",
              "      <th>0</th>\n",
              "      <td>Baleno 1.2</td>\n",
              "      <td>1197.0</td>\n",
              "      <td>545000.0</td>\n",
              "      <td>2017</td>\n",
              "      <td>Third</td>\n",
              "      <td>Manual</td>\n",
              "      <td>40000.0</td>\n",
              "      <td>First</td>\n",
              "      <td>Petrol</td>\n",
              "      <td>Maruti</td>\n",
              "    </tr>\n",
              "    <tr>\n",
              "      <th>1</th>\n",
              "      <td>Hexa XTA</td>\n",
              "      <td>2179.0</td>\n",
              "      <td>1000000.0</td>\n",
              "      <td>2018</td>\n",
              "      <td>Third</td>\n",
              "      <td>Automatic</td>\n",
              "      <td>70000.0</td>\n",
              "      <td>First</td>\n",
              "      <td>Diesel</td>\n",
              "      <td>Tata</td>\n",
              "    </tr>\n",
              "    <tr>\n",
              "      <th>2</th>\n",
              "      <td>Swift Dzire</td>\n",
              "      <td>1197.0</td>\n",
              "      <td>450000.0</td>\n",
              "      <td>2015</td>\n",
              "      <td>Third</td>\n",
              "      <td>Manual</td>\n",
              "      <td>70000.0</td>\n",
              "      <td>Second</td>\n",
              "      <td>Petrol</td>\n",
              "      <td>Maruti</td>\n",
              "    </tr>\n",
              "    <tr>\n",
              "      <th>3</th>\n",
              "      <td>i10 Magna</td>\n",
              "      <td>1086.0</td>\n",
              "      <td>160000.0</td>\n",
              "      <td>2009</td>\n",
              "      <td>Third</td>\n",
              "      <td>Manual</td>\n",
              "      <td>80000.0</td>\n",
              "      <td>First</td>\n",
              "      <td>Petrol</td>\n",
              "      <td>Hyundai</td>\n",
              "    </tr>\n",
              "    <tr>\n",
              "      <th>4</th>\n",
              "      <td>i20 Active</td>\n",
              "      <td>1197.0</td>\n",
              "      <td>470000.0</td>\n",
              "      <td>2015</td>\n",
              "      <td>Third</td>\n",
              "      <td>Manual</td>\n",
              "      <td>70000.0</td>\n",
              "      <td>First</td>\n",
              "      <td>Petrol</td>\n",
              "      <td>Hyundai</td>\n",
              "    </tr>\n",
              "    <tr>\n",
              "      <th>...</th>\n",
              "      <td>...</td>\n",
              "      <td>...</td>\n",
              "      <td>...</td>\n",
              "      <td>...</td>\n",
              "      <td>...</td>\n",
              "      <td>...</td>\n",
              "      <td>...</td>\n",
              "      <td>...</td>\n",
              "      <td>...</td>\n",
              "      <td>...</td>\n",
              "    </tr>\n",
              "    <tr>\n",
              "      <th>17208</th>\n",
              "      <td>Amaze VX</td>\n",
              "      <td>1198.0</td>\n",
              "      <td>325000.0</td>\n",
              "      <td>2013</td>\n",
              "      <td>First</td>\n",
              "      <td>Manual</td>\n",
              "      <td>89000.0</td>\n",
              "      <td>Second</td>\n",
              "      <td>Petrol</td>\n",
              "      <td>Honda</td>\n",
              "    </tr>\n",
              "    <tr>\n",
              "      <th>17209</th>\n",
              "      <td>Camry 2.5</td>\n",
              "      <td>2494.0</td>\n",
              "      <td>2075000.0</td>\n",
              "      <td>2016</td>\n",
              "      <td>First</td>\n",
              "      <td>Automatic</td>\n",
              "      <td>68000.0</td>\n",
              "      <td>First</td>\n",
              "      <td>Petrol</td>\n",
              "      <td>Toyota</td>\n",
              "    </tr>\n",
              "    <tr>\n",
              "      <th>17210</th>\n",
              "      <td>Corolla Altis</td>\n",
              "      <td>1798.0</td>\n",
              "      <td>835000.0</td>\n",
              "      <td>2016</td>\n",
              "      <td>First</td>\n",
              "      <td>Manual</td>\n",
              "      <td>81000.0</td>\n",
              "      <td>First</td>\n",
              "      <td>Petrol</td>\n",
              "      <td>Toyota</td>\n",
              "    </tr>\n",
              "    <tr>\n",
              "      <th>17211</th>\n",
              "      <td>Creta 1.6</td>\n",
              "      <td>1582.0</td>\n",
              "      <td>1395000.0</td>\n",
              "      <td>2019</td>\n",
              "      <td>First</td>\n",
              "      <td>Automatic</td>\n",
              "      <td>20000.0</td>\n",
              "      <td>First</td>\n",
              "      <td>Diesel</td>\n",
              "      <td>Hyundai</td>\n",
              "    </tr>\n",
              "    <tr>\n",
              "      <th>17212</th>\n",
              "      <td>Swift Dzire</td>\n",
              "      <td>1248.0</td>\n",
              "      <td>650000.0</td>\n",
              "      <td>2017</td>\n",
              "      <td>First</td>\n",
              "      <td>Manual</td>\n",
              "      <td>32000.0</td>\n",
              "      <td>First</td>\n",
              "      <td>Diesel</td>\n",
              "      <td>Maruti</td>\n",
              "    </tr>\n",
              "  </tbody>\n",
              "</table>\n",
              "<p>17128 rows × 10 columns</p>\n",
              "</div>\n",
              "    <div class=\"colab-df-buttons\">\n",
              "\n",
              "  <div class=\"colab-df-container\">\n",
              "    <button class=\"colab-df-convert\" onclick=\"convertToInteractive('df-473785fe-66d3-4b80-abbd-3bf918de273a')\"\n",
              "            title=\"Convert this dataframe to an interactive table.\"\n",
              "            style=\"display:none;\">\n",
              "\n",
              "  <svg xmlns=\"http://www.w3.org/2000/svg\" height=\"24px\" viewBox=\"0 -960 960 960\">\n",
              "    <path d=\"M120-120v-720h720v720H120Zm60-500h600v-160H180v160Zm220 220h160v-160H400v160Zm0 220h160v-160H400v160ZM180-400h160v-160H180v160Zm440 0h160v-160H620v160ZM180-180h160v-160H180v160Zm440 0h160v-160H620v160Z\"/>\n",
              "  </svg>\n",
              "    </button>\n",
              "\n",
              "  <style>\n",
              "    .colab-df-container {\n",
              "      display:flex;\n",
              "      gap: 12px;\n",
              "    }\n",
              "\n",
              "    .colab-df-convert {\n",
              "      background-color: #E8F0FE;\n",
              "      border: none;\n",
              "      border-radius: 50%;\n",
              "      cursor: pointer;\n",
              "      display: none;\n",
              "      fill: #1967D2;\n",
              "      height: 32px;\n",
              "      padding: 0 0 0 0;\n",
              "      width: 32px;\n",
              "    }\n",
              "\n",
              "    .colab-df-convert:hover {\n",
              "      background-color: #E2EBFA;\n",
              "      box-shadow: 0px 1px 2px rgba(60, 64, 67, 0.3), 0px 1px 3px 1px rgba(60, 64, 67, 0.15);\n",
              "      fill: #174EA6;\n",
              "    }\n",
              "\n",
              "    .colab-df-buttons div {\n",
              "      margin-bottom: 4px;\n",
              "    }\n",
              "\n",
              "    [theme=dark] .colab-df-convert {\n",
              "      background-color: #3B4455;\n",
              "      fill: #D2E3FC;\n",
              "    }\n",
              "\n",
              "    [theme=dark] .colab-df-convert:hover {\n",
              "      background-color: #434B5C;\n",
              "      box-shadow: 0px 1px 3px 1px rgba(0, 0, 0, 0.15);\n",
              "      filter: drop-shadow(0px 1px 2px rgba(0, 0, 0, 0.3));\n",
              "      fill: #FFFFFF;\n",
              "    }\n",
              "  </style>\n",
              "\n",
              "    <script>\n",
              "      const buttonEl =\n",
              "        document.querySelector('#df-473785fe-66d3-4b80-abbd-3bf918de273a button.colab-df-convert');\n",
              "      buttonEl.style.display =\n",
              "        google.colab.kernel.accessAllowed ? 'block' : 'none';\n",
              "\n",
              "      async function convertToInteractive(key) {\n",
              "        const element = document.querySelector('#df-473785fe-66d3-4b80-abbd-3bf918de273a');\n",
              "        const dataTable =\n",
              "          await google.colab.kernel.invokeFunction('convertToInteractive',\n",
              "                                                    [key], {});\n",
              "        if (!dataTable) return;\n",
              "\n",
              "        const docLinkHtml = 'Like what you see? Visit the ' +\n",
              "          '<a target=\"_blank\" href=https://colab.research.google.com/notebooks/data_table.ipynb>data table notebook</a>'\n",
              "          + ' to learn more about interactive tables.';\n",
              "        element.innerHTML = '';\n",
              "        dataTable['output_type'] = 'display_data';\n",
              "        await google.colab.output.renderOutput(dataTable, element);\n",
              "        const docLink = document.createElement('div');\n",
              "        docLink.innerHTML = docLinkHtml;\n",
              "        element.appendChild(docLink);\n",
              "      }\n",
              "    </script>\n",
              "  </div>\n",
              "\n",
              "\n",
              "<div id=\"df-a47dbaf7-f858-4bb8-b799-031f710cc80e\">\n",
              "  <button class=\"colab-df-quickchart\" onclick=\"quickchart('df-a47dbaf7-f858-4bb8-b799-031f710cc80e')\"\n",
              "            title=\"Suggest charts\"\n",
              "            style=\"display:none;\">\n",
              "\n",
              "<svg xmlns=\"http://www.w3.org/2000/svg\" height=\"24px\"viewBox=\"0 0 24 24\"\n",
              "     width=\"24px\">\n",
              "    <g>\n",
              "        <path d=\"M19 3H5c-1.1 0-2 .9-2 2v14c0 1.1.9 2 2 2h14c1.1 0 2-.9 2-2V5c0-1.1-.9-2-2-2zM9 17H7v-7h2v7zm4 0h-2V7h2v10zm4 0h-2v-4h2v4z\"/>\n",
              "    </g>\n",
              "</svg>\n",
              "  </button>\n",
              "\n",
              "<style>\n",
              "  .colab-df-quickchart {\n",
              "      --bg-color: #E8F0FE;\n",
              "      --fill-color: #1967D2;\n",
              "      --hover-bg-color: #E2EBFA;\n",
              "      --hover-fill-color: #174EA6;\n",
              "      --disabled-fill-color: #AAA;\n",
              "      --disabled-bg-color: #DDD;\n",
              "  }\n",
              "\n",
              "  [theme=dark] .colab-df-quickchart {\n",
              "      --bg-color: #3B4455;\n",
              "      --fill-color: #D2E3FC;\n",
              "      --hover-bg-color: #434B5C;\n",
              "      --hover-fill-color: #FFFFFF;\n",
              "      --disabled-bg-color: #3B4455;\n",
              "      --disabled-fill-color: #666;\n",
              "  }\n",
              "\n",
              "  .colab-df-quickchart {\n",
              "    background-color: var(--bg-color);\n",
              "    border: none;\n",
              "    border-radius: 50%;\n",
              "    cursor: pointer;\n",
              "    display: none;\n",
              "    fill: var(--fill-color);\n",
              "    height: 32px;\n",
              "    padding: 0;\n",
              "    width: 32px;\n",
              "  }\n",
              "\n",
              "  .colab-df-quickchart:hover {\n",
              "    background-color: var(--hover-bg-color);\n",
              "    box-shadow: 0 1px 2px rgba(60, 64, 67, 0.3), 0 1px 3px 1px rgba(60, 64, 67, 0.15);\n",
              "    fill: var(--button-hover-fill-color);\n",
              "  }\n",
              "\n",
              "  .colab-df-quickchart-complete:disabled,\n",
              "  .colab-df-quickchart-complete:disabled:hover {\n",
              "    background-color: var(--disabled-bg-color);\n",
              "    fill: var(--disabled-fill-color);\n",
              "    box-shadow: none;\n",
              "  }\n",
              "\n",
              "  .colab-df-spinner {\n",
              "    border: 2px solid var(--fill-color);\n",
              "    border-color: transparent;\n",
              "    border-bottom-color: var(--fill-color);\n",
              "    animation:\n",
              "      spin 1s steps(1) infinite;\n",
              "  }\n",
              "\n",
              "  @keyframes spin {\n",
              "    0% {\n",
              "      border-color: transparent;\n",
              "      border-bottom-color: var(--fill-color);\n",
              "      border-left-color: var(--fill-color);\n",
              "    }\n",
              "    20% {\n",
              "      border-color: transparent;\n",
              "      border-left-color: var(--fill-color);\n",
              "      border-top-color: var(--fill-color);\n",
              "    }\n",
              "    30% {\n",
              "      border-color: transparent;\n",
              "      border-left-color: var(--fill-color);\n",
              "      border-top-color: var(--fill-color);\n",
              "      border-right-color: var(--fill-color);\n",
              "    }\n",
              "    40% {\n",
              "      border-color: transparent;\n",
              "      border-right-color: var(--fill-color);\n",
              "      border-top-color: var(--fill-color);\n",
              "    }\n",
              "    60% {\n",
              "      border-color: transparent;\n",
              "      border-right-color: var(--fill-color);\n",
              "    }\n",
              "    80% {\n",
              "      border-color: transparent;\n",
              "      border-right-color: var(--fill-color);\n",
              "      border-bottom-color: var(--fill-color);\n",
              "    }\n",
              "    90% {\n",
              "      border-color: transparent;\n",
              "      border-bottom-color: var(--fill-color);\n",
              "    }\n",
              "  }\n",
              "</style>\n",
              "\n",
              "  <script>\n",
              "    async function quickchart(key) {\n",
              "      const quickchartButtonEl =\n",
              "        document.querySelector('#' + key + ' button');\n",
              "      quickchartButtonEl.disabled = true;  // To prevent multiple clicks.\n",
              "      quickchartButtonEl.classList.add('colab-df-spinner');\n",
              "      try {\n",
              "        const charts = await google.colab.kernel.invokeFunction(\n",
              "            'suggestCharts', [key], {});\n",
              "      } catch (error) {\n",
              "        console.error('Error during call to suggestCharts:', error);\n",
              "      }\n",
              "      quickchartButtonEl.classList.remove('colab-df-spinner');\n",
              "      quickchartButtonEl.classList.add('colab-df-quickchart-complete');\n",
              "    }\n",
              "    (() => {\n",
              "      let quickchartButtonEl =\n",
              "        document.querySelector('#df-a47dbaf7-f858-4bb8-b799-031f710cc80e button');\n",
              "      quickchartButtonEl.style.display =\n",
              "        google.colab.kernel.accessAllowed ? 'block' : 'none';\n",
              "    })();\n",
              "  </script>\n",
              "</div>\n",
              "\n",
              "  <div id=\"id_ebdbf1ab-b2aa-447a-91e3-f188c2460afd\">\n",
              "    <style>\n",
              "      .colab-df-generate {\n",
              "        background-color: #E8F0FE;\n",
              "        border: none;\n",
              "        border-radius: 50%;\n",
              "        cursor: pointer;\n",
              "        display: none;\n",
              "        fill: #1967D2;\n",
              "        height: 32px;\n",
              "        padding: 0 0 0 0;\n",
              "        width: 32px;\n",
              "      }\n",
              "\n",
              "      .colab-df-generate:hover {\n",
              "        background-color: #E2EBFA;\n",
              "        box-shadow: 0px 1px 2px rgba(60, 64, 67, 0.3), 0px 1px 3px 1px rgba(60, 64, 67, 0.15);\n",
              "        fill: #174EA6;\n",
              "      }\n",
              "\n",
              "      [theme=dark] .colab-df-generate {\n",
              "        background-color: #3B4455;\n",
              "        fill: #D2E3FC;\n",
              "      }\n",
              "\n",
              "      [theme=dark] .colab-df-generate:hover {\n",
              "        background-color: #434B5C;\n",
              "        box-shadow: 0px 1px 3px 1px rgba(0, 0, 0, 0.15);\n",
              "        filter: drop-shadow(0px 1px 2px rgba(0, 0, 0, 0.3));\n",
              "        fill: #FFFFFF;\n",
              "      }\n",
              "    </style>\n",
              "    <button class=\"colab-df-generate\" onclick=\"generateWithVariable('df')\"\n",
              "            title=\"Generate code using this dataframe.\"\n",
              "            style=\"display:none;\">\n",
              "\n",
              "  <svg xmlns=\"http://www.w3.org/2000/svg\" height=\"24px\"viewBox=\"0 0 24 24\"\n",
              "       width=\"24px\">\n",
              "    <path d=\"M7,19H8.4L18.45,9,17,7.55,7,17.6ZM5,21V16.75L18.45,3.32a2,2,0,0,1,2.83,0l1.4,1.43a1.91,1.91,0,0,1,.58,1.4,1.91,1.91,0,0,1-.58,1.4L9.25,21ZM18.45,9,17,7.55Zm-12,3A5.31,5.31,0,0,0,4.9,8.1,5.31,5.31,0,0,0,1,6.5,5.31,5.31,0,0,0,4.9,4.9,5.31,5.31,0,0,0,6.5,1,5.31,5.31,0,0,0,8.1,4.9,5.31,5.31,0,0,0,12,6.5,5.46,5.46,0,0,0,6.5,12Z\"/>\n",
              "  </svg>\n",
              "    </button>\n",
              "    <script>\n",
              "      (() => {\n",
              "      const buttonEl =\n",
              "        document.querySelector('#id_ebdbf1ab-b2aa-447a-91e3-f188c2460afd button.colab-df-generate');\n",
              "      buttonEl.style.display =\n",
              "        google.colab.kernel.accessAllowed ? 'block' : 'none';\n",
              "\n",
              "      buttonEl.onclick = () => {\n",
              "        google.colab.notebook.generateWithVariable('df');\n",
              "      }\n",
              "      })();\n",
              "    </script>\n",
              "  </div>\n",
              "\n",
              "    </div>\n",
              "  </div>\n"
            ],
            "application/vnd.google.colaboratory.intrinsic+json": {
              "type": "dataframe",
              "variable_name": "df",
              "summary": "{\n  \"name\": \"df\",\n  \"rows\": 17128,\n  \"fields\": [\n    {\n      \"column\": \"full_name\",\n      \"properties\": {\n        \"dtype\": \"category\",\n        \"num_unique_values\": 975,\n        \"samples\": [\n          \"Thar CRDe\",\n          \"Freestyle Flair\",\n          \"Scorpio S5\"\n        ],\n        \"semantic_type\": \"\",\n        \"description\": \"\"\n      }\n    },\n    {\n      \"column\": \"engine_capacity\",\n      \"properties\": {\n        \"dtype\": \"number\",\n        \"std\": 463.56168449438076,\n        \"min\": 72.0,\n        \"max\": 5998.0,\n        \"num_unique_values\": 154,\n        \"samples\": [\n          796.0,\n          2979.0,\n          2147.0\n        ],\n        \"semantic_type\": \"\",\n        \"description\": \"\"\n      }\n    },\n    {\n      \"column\": \"resale_price\",\n      \"properties\": {\n        \"dtype\": \"number\",\n        \"std\": 962563.8178823072,\n        \"min\": 28000.0,\n        \"max\": 9700000.0,\n        \"num_unique_values\": 1713,\n        \"samples\": [\n          2200000.0,\n          4625000.0,\n          3399000.0\n        ],\n        \"semantic_type\": \"\",\n        \"description\": \"\"\n      }\n    },\n    {\n      \"column\": \"registered_year\",\n      \"properties\": {\n        \"dtype\": \"int16\",\n        \"num_unique_values\": 23,\n        \"samples\": [\n          2008,\n          2019,\n          2017\n        ],\n        \"semantic_type\": \"\",\n        \"description\": \"\"\n      }\n    },\n    {\n      \"column\": \"insurance\",\n      \"properties\": {\n        \"dtype\": \"category\",\n        \"num_unique_values\": 5,\n        \"samples\": [\n          \"First\",\n          \"Second\",\n          \"Zerodep\"\n        ],\n        \"semantic_type\": \"\",\n        \"description\": \"\"\n      }\n    },\n    {\n      \"column\": \"transmission_type\",\n      \"properties\": {\n        \"dtype\": \"category\",\n        \"num_unique_values\": 2,\n        \"samples\": [\n          \"Automatic\",\n          \"Manual\"\n        ],\n        \"semantic_type\": \"\",\n        \"description\": \"\"\n      }\n    },\n    {\n      \"column\": \"kms_driven\",\n      \"properties\": {\n        \"dtype\": \"number\",\n        \"std\": 64662.80013726331,\n        \"min\": 286.0,\n        \"max\": 6275000.0,\n        \"num_unique_values\": 8264,\n        \"samples\": [\n          128100.0,\n          64374.0\n        ],\n        \"semantic_type\": \"\",\n        \"description\": \"\"\n      }\n    },\n    {\n      \"column\": \"owner_type\",\n      \"properties\": {\n        \"dtype\": \"category\",\n        \"num_unique_values\": 5,\n        \"samples\": [\n          \"Second\",\n          \"Fourth\"\n        ],\n        \"semantic_type\": \"\",\n        \"description\": \"\"\n      }\n    },\n    {\n      \"column\": \"fuel_type\",\n      \"properties\": {\n        \"dtype\": \"category\",\n        \"num_unique_values\": 5,\n        \"samples\": [\n          \"Diesel\",\n          \"Electric\"\n        ],\n        \"semantic_type\": \"\",\n        \"description\": \"\"\n      }\n    },\n    {\n      \"column\": \"brand\",\n      \"properties\": {\n        \"dtype\": \"category\",\n        \"num_unique_values\": 33,\n        \"samples\": [\n          \"Daewoo\",\n          \"Chevrolet\"\n        ],\n        \"semantic_type\": \"\",\n        \"description\": \"\"\n      }\n    }\n  ]\n}"
            }
          },
          "metadata": {},
          "execution_count": 136
        }
      ]
    }
  ]
}